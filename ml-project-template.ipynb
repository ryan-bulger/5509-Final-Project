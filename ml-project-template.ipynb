{
 "cells": [
  {
   "cell_type": "code",
   "execution_count": null,
   "id": "d90ab48c",
   "metadata": {},
   "outputs": [],
   "source": [
    "import pandas as pd\n",
    "import numpy as np\n",
    "\n",
    "import seaborn as sns\n",
    "import matplotlib.pyplot as plt"
   ]
  },
  {
   "cell_type": "markdown",
   "id": "f2353c80",
   "metadata": {},
   "source": [
    "# Project Summary"
   ]
  },
  {
   "cell_type": "markdown",
   "id": "628f9827",
   "metadata": {},
   "source": [
    "Provide a clear explanation of:\n",
    "  1. What this project is about\n",
    "     - Clearly state the ML type (supervised/unsupervised)\n",
    "  2. The goal of the project\n",
    "     - E.g. why it’s important, what goal you want to achieve, or want to learn."
   ]
  },
  {
   "cell_type": "markdown",
   "id": "5faf17c6",
   "metadata": {},
   "source": [
    "# Data Summary"
   ]
  },
  {
   "cell_type": "markdown",
   "id": "5112cc24",
   "metadata": {},
   "source": [
    "Data Source:\n",
    "1. Identify where the data came from (using the APA format)\n",
    "2. Explain how the dataset was gathered (via API, csv, etc.)\n",
    "\n",
    "Data Description:\n",
    "1. Create a table to provide a description of each feature (at least some key features if too many)\n",
    "2. Print out the results of df.info() to display:\n",
    "   1. Number of samples/rows and the number of features/columns\n",
    "   2. Data types of each feature (or just a summary if too many features- e.g. 10 categorical, 20 numeric features)\n",
    "   3. Bytesize (if a huge file)\n",
    "\n",
    "Univariate Visualizations (provide clear explanations of what the purpose of each visualization is):\n",
    "1. Missing values heatmap to identify:\n",
    "   1. Imbalances between features\n",
    "   2. Which features need to have missing data imputed or even have the feature dropped completely\n",
    "2. Duplicate values heatmap to identify where rows are duplicated\n",
    "3. Boxplots and/or histograms of numerical features to identify:\n",
    "   1. How the distributions of each feature compare to each other\n",
    "   2. Where outliers exist\n",
    "4. For categorical features create a bar chart of the frequency/count of occurance for each category\n",
    "\n",
    "Conclusions/Discussions/Next Steps:\n",
    "1. Summarize the steps taken to describe the dataset\n",
    "2. Identify any insights/findings made while describing the dataset\n",
    "3. Give a brief description of what the next step will be in the analysis (data cleaning)"
   ]
  },
  {
   "cell_type": "markdown",
   "id": "4cda74e6",
   "metadata": {},
   "source": [
    "# Data Cleaning"
   ]
  },
  {
   "cell_type": "markdown",
   "id": "31fdefe1",
   "metadata": {},
   "source": [
    "Data cleaning (provide clear explanations of why each step is being applied to the dataset):\n",
    "1. Convert data types\n",
    "2. Create new columns that will help with the analysis such as:\n",
    "   1. Adding datetime features (year, month, day, quarter, date, etc.)\n",
    "   2. Pivoting columns\n",
    "   3. Grouping rows by features\n",
    "3. Renaming column headers\n",
    "4. Filter/subset the dataset\n",
    "5. Apply methods to imputing missing values, or drop the feature altogether if its not important to the analysis\n",
    "6. Apply methods to remove outliers\n",
    "\n",
    "Conclusions/Discussions/Next Steps:\n",
    "1. Summarize the steps taken to clean the dataset\n",
    "2. Identify any insights/findings made while cleaning (including any foreseen difficulties that could occur during analysis)\n",
    "3. Give a brief description of what the next step will be in the analysis (EDA)"
   ]
  },
  {
   "cell_type": "markdown",
   "id": "dffbff54",
   "metadata": {},
   "source": [
    "# EDA"
   ]
  },
  {
   "cell_type": "markdown",
   "id": "1a3dddda",
   "metadata": {},
   "source": [
    "Multivariate Visualizations (Using colors, size, or faceted by categories where applicable. Also provide clear explanations of what the purpose of each visualization is):\n",
    "   1. Correlation matrix\n",
    "   2. Bi-variate histograms (i.e. sns.pairplot())\n",
    "   3. Scatter plots\n",
    "   4. Line charts\n",
    "\n",
    "Conclusions/Discussions/Next Steps:\n",
    "1. Summarize the steps taken to clean the dataset\n",
    "2. Identify any insights/findings made while cleaning (including any foreseen difficulties that could occur during analysis)\n",
    "3. Give a brief description of what the next step will be in the analysis (Modeling)"
   ]
  },
  {
   "cell_type": "markdown",
   "id": "0e51a365",
   "metadata": {},
   "source": [
    "# Modeling"
   ]
  },
  {
   "cell_type": "markdown",
   "id": "dd4e30ac",
   "metadata": {},
   "source": [
    "- Use multiple (appropriate) ML models\n",
    "  - use models not covered in class\n",
    "  - Is the choice of model(s) appropriate for the problem?\n",
    "- Interaction/collinearity between features\n",
    "  - Is there interaction/collinearity between features that can be a problem for the choice of the model?\n",
    "  - Does the author properly treat if there is interaction or collinearity (e.g., linear regression)? Or does the author confirm that there is no such effect with the choice of the model?\n",
    "- Feature importance\n",
    "  - Investigate which features are important by looking at feature rankings or importance from the model\n",
    "- Hyperparameter tuning\n",
    "- Managing data imbalance\n",
    "  - Regularization or other training techniques such as cross validation, oversampling/undersampling/SMOTE or similar for managing data imbalance"
   ]
  },
  {
   "cell_type": "markdown",
   "id": "ef36dd97",
   "metadata": {},
   "source": [
    "# Results and Analysis"
   ]
  },
  {
   "cell_type": "markdown",
   "id": "e4fc3ee5",
   "metadata": {},
   "source": [
    "- A summary of results and analysis which includes:\n",
    "  1. Proper visualizations (E.g., tables, graphs/plots, heat maps, statistics summary with interpretation, etc.)\n",
    "  2. Use various evaluation metrics (E.g., if your data is imbalanced, there are other metrics (F1, ROC, or AUC) that are better than mere accuracy).\n",
    "     1. Explain why they chose the metric?\n",
    "  3. Iterate the training and evaluation process and improve the performance\n",
    "     1.  Address selecting features through the iteration process\n",
    "  4. Compare the results from the multiple models and make appropriate comparisons"
   ]
  },
  {
   "cell_type": "markdown",
   "id": "203e83c2",
   "metadata": {},
   "source": [
    "# Discussion & Conclusion"
   ]
  },
  {
   "cell_type": "markdown",
   "id": "e3668f88",
   "metadata": {},
   "source": [
    "1. Learning and takeaways\n",
    "2. Why something didn’t work\n",
    "3. Suggest ways to improve"
   ]
  }
 ],
 "metadata": {
  "kernelspec": {
   "display_name": "Python 3",
   "language": "python",
   "name": "python3"
  },
  "language_info": {
   "codemirror_mode": {
    "name": "ipython",
    "version": 3
   },
   "file_extension": ".py",
   "mimetype": "text/x-python",
   "name": "python",
   "nbconvert_exporter": "python",
   "pygments_lexer": "ipython3",
   "version": "3.13.5"
  }
 },
 "nbformat": 4,
 "nbformat_minor": 5
}
