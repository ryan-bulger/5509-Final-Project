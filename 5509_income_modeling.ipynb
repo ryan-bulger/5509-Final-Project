{
 "cells": [
  {
   "cell_type": "markdown",
   "id": "fd2e9796",
   "metadata": {},
   "source": [
    "# Pre-Processing\n",
    "In the Preprocessing stage, I will first split the dataset into training and testing sets to ensure that the models can be properly trained and evaluated on separate data. The training set is used to fit and optimize the supervised classification models, while the testing set is reserved for assessing their predictive performance.  \n",
    "\n",
    "Next, I create preprocessing pipelines for both numeric and categorical features. The numeric transformer uses an `SimpleImputer` to fill in missing values based on the medians of the numeric variables, followed by a `StandardScaler` to normalize their ranges. The categorical transformer also uses an `SimpleImputer` with the most frequent category strategy to handle missing values and then applies a `OneHotEncoder` to convert categorical features into numerical format suitable for modeling. These transformations are combined within a `ColumnTransformer` to ensure that each feature type is processed appropriately and consistently, producing a clean and fully prepared dataset for model training."
   ]
  },
  {
   "cell_type": "markdown",
   "id": "8baff40c",
   "metadata": {},
   "source": [
    "### Import Python Packages & Dataset"
   ]
  },
  {
   "cell_type": "code",
   "execution_count": 1,
   "id": "d90ab48c",
   "metadata": {},
   "outputs": [],
   "source": [
    "# %load_ext cudf.pandas\n",
    "import pandas as pd\n",
    "import numpy as np\n",
    "import os\n",
    "import joblib\n",
    "\n",
    "from sklearn.pipeline import Pipeline  as SkPipeline\n",
    "from imblearn.pipeline import Pipeline as ImbPipeline\n",
    "from imblearn.over_sampling import SMOTE\n",
    "from sklearn.model_selection import train_test_split, GridSearchCV, StratifiedKFold, learning_curve\n",
    "from sklearn.impute import SimpleImputer\n",
    "from sklearn.preprocessing import StandardScaler, OneHotEncoder\n",
    "from sklearn.compose import ColumnTransformer\n",
    "from sklearn.linear_model import LogisticRegression\n",
    "from sklearn.svm import SVC, LinearSVC\n",
    "from sklearn.feature_selection import SelectFromModel\n",
    "from sklearn.ensemble import RandomForestClassifier, StackingClassifier, VotingClassifier\n",
    "from sklearn.metrics import confusion_matrix, classification_report, RocCurveDisplay, roc_auc_score\n",
    "\n",
    "import seaborn as sns\n",
    "import matplotlib.pyplot as plt\n",
    "import altair as alt\n",
    "alt.data_transformers.disable_max_rows()\n",
    "\n",
    "# Define column types\n",
    "categorical_columns = [\n",
    "    'workclass',\n",
    "    'marital-status',\n",
    "    'occupation',\n",
    "    'relationship',\n",
    "    'race',\n",
    "    'sex',\n",
    "    'native-country',\n",
    "    'income'\n",
    " ]\n",
    "numeric_columns = [\n",
    "    'age',\n",
    "    'fnlwgt',\n",
    "    'education-num',\n",
    "    'capital-gain',\n",
    "    'capital-loss',\n",
    "    'hours-per-week'\n",
    " ]\n",
    "\n",
    "# Import dataset that was created in the '5509_income_pre_modeling.ipynb' workbook\n",
    "df = pd.read_csv('./df.csv')"
   ]
  },
  {
   "cell_type": "code",
   "execution_count": 2,
   "id": "3862130a",
   "metadata": {},
   "outputs": [],
   "source": [
    "# Downcast floats datatypes to minimize memory usage \n",
    "for col in df.select_dtypes(include=['float64']).columns:\n",
    "    df[col] = pd.to_numeric(df[col], downcast='float')\n",
    "\n",
    "# Downcast interger datatypes to minimize memory usage \n",
    "for col in df.select_dtypes(include=['int64']).columns:\n",
    "    df[col] = pd.to_numeric(df[col], downcast='integer')\n",
    "\n",
    "# Instantiate an empty dataframe that will be used to store each models precision, recall, and F1 scores by target category\n",
    "model_results_df = pd.DataFrame([])\n",
    "\n",
    "# Instantiate an empty dataframe that will be used to store each models AUC\n",
    "model_roc_auc_df = pd.DataFrame([])\n",
    "\n",
    "# Change categorical columns to category datatype\n",
    "# df[categorical_columns] = df[categorical_columns].astype('category')"
   ]
  },
  {
   "cell_type": "markdown",
   "id": "6926063e",
   "metadata": {},
   "source": [
    "### Train Test Split\n",
    "- The dataset is now divided into a training set that will be used to build supervised classification models, and a testing set for evaluating their performance."
   ]
  },
  {
   "cell_type": "code",
   "execution_count": 3,
   "id": "2b1ea620",
   "metadata": {},
   "outputs": [
    {
     "name": "stdout",
     "output_type": "stream",
     "text": [
      "X_train shape = (39050, 13)    y_train shape = (39050,)\n",
      "X_test shape =  (9763, 13)     y_test shape =  (9763,)\n"
     ]
    }
   ],
   "source": [
    "# Define the predictors\n",
    "X = df[['age', 'workclass', 'fnlwgt', 'education-num', 'marital-status', 'occupation', 'relationship', 'race', 'sex', 'capital-gain',\n",
    "       'capital-loss', 'hours-per-week', 'native-country']]\n",
    "\n",
    "# Define the target\n",
    "y = df['income']\n",
    "\n",
    "# Drop the target from the categorical_columns list\n",
    "categorical_columns = [col for col in categorical_columns if col != 'income']\n",
    "\n",
    "# Split into training and testing sets\n",
    "X_train, X_test, y_train, y_test = train_test_split(X, y, test_size=0.2, stratify=y, random_state=42)\n",
    "\n",
    "# Check shape of X_train, X_test, y_train, & y_test\n",
    "print(f'X_train shape = {X_train.shape}    y_train shape = {y_train.shape}')\n",
    "print(f'X_test shape =  {X_test.shape}     y_test shape =  {y_test.shape}')"
   ]
  },
  {
   "cell_type": "markdown",
   "id": "bb0bf254",
   "metadata": {},
   "source": [
    "### Preprocessing Transformers\n",
    "- Next we build a preprocessing pipeline that prepares numeric and categorical data for modeling. Numeric features are imputed using their median values and standardized for consistent scaling, while categorical features are imputed with the most frequent category and one-hot encoded into binary variables. The `ColumnTransformer` then applies these transformations to their respective columns, producing a clean, model-ready dataset.\n",
    "- To aid in modeling dummy columns will be added during imputing to indicate where data was missing for the `capital-gain`, `capital-loss`, `workclass`, `occupation`, and `native-country` columns."
   ]
  },
  {
   "cell_type": "code",
   "execution_count": 4,
   "id": "c9322888",
   "metadata": {},
   "outputs": [],
   "source": [
    "numeric_transformer = SkPipeline([\n",
    "    ('imputer', SimpleImputer(strategy='median')),\n",
    "    ('scaler', StandardScaler())\n",
    "])\n",
    "\n",
    "categorical_transformer = SkPipeline([\n",
    "    ('imputer', SimpleImputer(strategy='most_frequent')),\n",
    "    ('onehot', OneHotEncoder(handle_unknown='ignore'))\n",
    "])\n",
    "\n",
    "preprocessor_transformer = ColumnTransformer(\n",
    "    transformers=[\n",
    "        ('num', numeric_transformer, numeric_columns),\n",
    "        ('cat', categorical_transformer, categorical_columns)\n",
    "    ],\n",
    "    remainder='drop'\n",
    ")"
   ]
  },
  {
   "cell_type": "markdown",
   "id": "471c4cb6",
   "metadata": {},
   "source": [
    "### Preprocessing - Conclusions/Discussions/Next Steps:\n",
    "During preprocessing, the main challenge identified was ensuring that the imputation process accurately captured relationships among variables without introducing bias, especially given the number of missing values in both numeric and categorical features.  \n",
    "\n",
    "With the data now standardized and encoded, the next step will be to apply supervised learning models to classify `income` levels and evaluate their performance on the testing set."
   ]
  },
  {
   "cell_type": "markdown",
   "id": "0e51a365",
   "metadata": {},
   "source": [
    "# Base Classifiers Modeling\n",
    "In the Modeling section, I first define several helper functions to streamline the evaluation process by generating learning curves, classification reports, confusion matrices, ROC curves, and feature selection summaries.  \n",
    "\n",
    "Three supervised classification models are developed:\n",
    "- a Logistic Regression model to estimate class probabilities using a sigmoid function,\n",
    "- a Support Vector Classifier (SVC) to separate classes by finding the optimal decision boundary, and\n",
    "- a Random Forest Classifier to aggregate multiple decision trees for improved accuracy and robustness.\n",
    "\n",
    "Each model is trained using the preprocessed training data and evaluated on the test set to measure performance.  \n",
    "\n",
    "Finally, ROC curves are plotted to compare all three classifiers and visually assess their ability to distinguish between `income` classes."
   ]
  },
  {
   "cell_type": "markdown",
   "id": "11c3b31f",
   "metadata": {},
   "source": [
    "### Modeling Helper Functions\n",
    "- These helper functions are used to evaluate model performance by:\n",
    "  - Fitting the model (`fit_model` function)\n",
    "  - Plotting the learning curve plots (`plot_learning_curve` function)\n",
    "  - Generating classification tables and confusion matrices (`create_classification_output` function)\n",
    "  - Plot ROC curves (`make_roc_curves` function)\n",
    "- There are also functions used to:\n",
    "  - Identify dropped columns during feature selection (`showdropped_features` function)\n",
    "  - Extract the best hyperparameters from cross-validation (`best_params_for` function)"
   ]
  },
  {
   "cell_type": "code",
   "execution_count": 5,
   "id": "7883e1f1",
   "metadata": {},
   "outputs": [],
   "source": [
    "# Function to check if a model has already been fit then load the model, otherwise fit the model\n",
    "def fit_model(pipe, X_train, y_train, filename):\n",
    "    if os.path.exists(filename):\n",
    "        print(f'Loading saved model from {filename}')\n",
    "        fitted_model = joblib.load(filename)\n",
    "    else:\n",
    "        fitted_model = pipe.fit(X_train, y_train)\n",
    "        joblib.dump(fitted_model, filename)\n",
    "        print(f'Model fitted and saved to {filename}')\n",
    "    return fitted_model\n",
    "\n",
    "# Function to plot the learning curve for a given model\n",
    "def plot_learning_curve(estimator, X, y, clf_type):\n",
    "    print('\\n' + '=' * 110)\n",
    "    print(f'{clf_type} Learning Curve:')\n",
    "    train_sizes, train_scores, val_scores = learning_curve(\n",
    "        estimator=estimator,\n",
    "        X=X,\n",
    "        y=y,\n",
    "        cv=StratifiedKFold(n_splits=3, shuffle=True, random_state=42),\n",
    "        scoring='roc_auc',\n",
    "        n_jobs=1,\n",
    "        train_sizes=np.linspace(0.2, 1.0, 5),\n",
    "        shuffle=True,\n",
    "        random_state=42,\n",
    "    )\n",
    "    train_mean, train_std = train_scores.mean(axis=1), train_scores.std(axis=1)\n",
    "    val_mean, val_std = val_scores.mean(axis=1), val_scores.std(axis=1)\n",
    "\n",
    "    plt.figure(figsize=(6, 4))\n",
    "    plt.plot(train_sizes, train_mean, 'o-', label='Training')\n",
    "    plt.plot(train_sizes, val_mean, 'o-', label='Validation')\n",
    "    plt.fill_between(train_sizes, train_mean - train_std, train_mean + train_std, alpha=0.1)\n",
    "    plt.fill_between(train_sizes, val_mean - val_std, val_mean + val_std, alpha=0.1)\n",
    "    plt.xlabel('Training set size')\n",
    "    plt.ylabel('ROC AUC')\n",
    "    plt.title(f'Learning Curve (ROC AUC)\\n({clf_type})')\n",
    "    plt.legend(loc='best')\n",
    "    plt.tight_layout()\n",
    "    plt.show()\n",
    "\n",
    "# Function to output the classification report and confusion matrix for a given model\n",
    "def create_classification_output(pipe, y_test, y_pred, clf_type):\n",
    "    # Create classification report\n",
    "    print('\\n' + '=' * 110)\n",
    "    print(f'{clf_type} Report:\\n{classification_report(y_test, y_pred, digits=4)}')\n",
    "    report = classification_report(y_test, y_pred, digits=4, output_dict=True)\n",
    "\n",
    "    # Append model results to the model_results_df\n",
    "    temp_result_df = pd.DataFrame.from_dict(\n",
    "        {k:v for k,v in report.items() if k in ['<=50K', '>50K']},\n",
    "        orient='index'\n",
    "    ).reset_index(names='income')\n",
    "    temp_result_df['model'] = clf_type\n",
    "    global model_results_df\n",
    "    model_results_df = pd.concat([model_results_df, temp_result_df])\n",
    "    # Append model roc_auc to the model_roc_auc_df\n",
    "    if hasattr(pipe, 'predict_proba'):\n",
    "        print(hasattr(pipe, 'predict_proba'))   \n",
    "        y_score = pipe.predict_proba(X_test)[:, 1]\n",
    "    else:\n",
    "        y_score = pipe.decision_function(X_test)\n",
    "    auc = roc_auc_score(y_test, y_score)\n",
    "    print(f'The {clf_type} ROC AUC = {auc:.4f}')\n",
    "    temp_roc_auc_df = pd.DataFrame.from_dict(\n",
    "            {clf_type:auc},\n",
    "            orient='index',\n",
    "            columns=['roc_auc']\n",
    "        ).reset_index(names='model')\n",
    "    global model_roc_auc_df\n",
    "    model_roc_auc_df = pd.concat([model_roc_auc_df, temp_roc_auc_df])\n",
    "\n",
    "    # Plot confusion matrix\n",
    "    print('\\n' + '=' * 110)\n",
    "    print(f'{clf_type} Confusion Matrix:')\n",
    "    labels = ['<=50K', '>50K']\n",
    "    cm = confusion_matrix(y_test, y_pred, labels=labels)\n",
    "    plt.figure(figsize=(5, 4))\n",
    "    sns.heatmap(cm, annot=True, fmt='d', cmap='Blues', xticklabels=labels, yticklabels=labels)\n",
    "    plt.title(f'Test Data Confusion Matrix\\n({clf_type})')\n",
    "    plt.xlabel('Predicted')\n",
    "    plt.ylabel('True')\n",
    "    plt.tight_layout()\n",
    "    plt.show()\n",
    "\n",
    "# Function to plot ROC curves and a AUC summary chart to compare models\n",
    "def make_roc_curves(X_test, y_test, models):\n",
    "    fig, (ax1, ax2) = plt.subplots(1, 2, figsize=(14, 6), gridspec_kw={'width_ratios': [1, 1]})\n",
    "    aucs, colors = {}, {}\n",
    "\n",
    "    for name, model in models.items():\n",
    "        if hasattr(model, 'predict_proba'):\n",
    "            y_score = model.predict_proba(X_test)[:, 1]\n",
    "        else:\n",
    "            y_score = model.decision_function(X_test)\n",
    "        aucs[name] = roc_auc_score(y_test, y_score)\n",
    "        disp = RocCurveDisplay.from_predictions(y_test, y_score, name=name, ax=ax1, pos_label='>50K')\n",
    "        colors[name] = disp.line_.get_color()\n",
    "\n",
    "    # ROC Curves\n",
    "    ax1.plot([0, 1], [0, 1], 'k--', label='Chance')\n",
    "    ax1.set_title('ROC Curves')\n",
    "    ax1.legend(loc='upper center', bbox_to_anchor=(0.5, -0.15), ncol=1, frameon=False, fontsize=9)\n",
    "\n",
    "    # AUC Summary Chart\n",
    "    names, scores = zip(*sorted(aucs.items(), key=lambda kv: kv[1], reverse=True))\n",
    "    bar_colors = [colors[n] for n in names]\n",
    "    bars = ax2.bar(range(len(names)), scores, color=bar_colors)\n",
    "    ax2.set_xticks(range(len(names)))\n",
    "    ax2.set_xticklabels(names, rotation=90, ha='center')\n",
    "    ax2.set_ylabel('AUC'); ax2.set_ylim(0.8, 1.0); ax2.set_title('AUC by Model Type')\n",
    "    for rect, s in zip(bars, scores):\n",
    "        ax2.text(rect.get_x() + rect.get_width()/2.0, rect.get_height() + 0.005, f'{s:.3f}',\n",
    "                 ha='center', va='bottom', fontsize=9)\n",
    "    fig.tight_layout(); fig.subplots_adjust(bottom=0.25)\n",
    "    plt.show()\n",
    "\n",
    "# Function to show which features are being dropped during feature selection\n",
    "def show_dropped_features(pipe, clf_type):\n",
    "    preprocess = pipe.named_steps['preprocessor']\n",
    "    selector = pipe.named_steps['selector']\n",
    "\n",
    "    feature_names = preprocess.get_feature_names_out()\n",
    "    kept_mask = selector.get_support()\n",
    "    coef = getattr(selector.estimator_, 'coef_', None)\n",
    "    l1_importance = np.abs(coef).ravel() if coef is not None else np.zeros_like(kept_mask, dtype=float)\n",
    "\n",
    "    selector_df = (\n",
    "        pd.DataFrame({\n",
    "            'feature': feature_names,\n",
    "            'kept': kept_mask,\n",
    "            'l1_importance': l1_importance\n",
    "        })\n",
    "        .assign(status=lambda d: np.where(d.kept, 'kept', 'dropped'))\n",
    "        .sort_values(['kept', 'l1_importance'], ascending=[False, False])\n",
    "        .reset_index(drop=True)\n",
    "    )\n",
    "\n",
    "    print('=' * 110)\n",
    "    print(f'{clf_type} Feature Selection:')\n",
    "    print(f'\\n{kept_mask.sum()} of the {kept_mask.size} features are used in modeling\\n')\n",
    "    print('Features dropped from model:')\n",
    "    for feat in selector_df.loc[~selector_df['kept'], 'feature']:\n",
    "        print(f'\\t{feat}')\n",
    "\n",
    "# Function to extract the best model hyperparameters from cross-validation\n",
    "def best_params_for(results, name):\n",
    "    mask = results['param_classifier'].astype(str).str.contains(name)\n",
    "    row = results[mask].sort_values('rank_test_score').iloc[0].dropna()\n",
    "    params = {k: row[k] for k in row.index if k.startswith('param_')}\n",
    "    params = {k.replace('param_', ''): v for k, v in params.items()}\n",
    "    return params"
   ]
  },
  {
   "cell_type": "markdown",
   "id": "1485e4d6",
   "metadata": {},
   "source": [
    "### Logistic Classifier\n",
    "- A Logistic Classifier predicts the probability that an observation belongs to a particular class by modeling the relationship between input features and a binary outcome using a logistic (sigmoid) function."
   ]
  },
  {
   "cell_type": "code",
   "execution_count": 6,
   "id": "758c6e3d",
   "metadata": {},
   "outputs": [
    {
     "name": "stdout",
     "output_type": "stream",
     "text": [
      "Loading saved model from logistic_pipe.pkl\n",
      "\n",
      "==============================================================================================================\n",
      "Logistic Classification (base model) Learning Curve:\n"
     ]
    },
    {
     "data": {
      "image/png": "[encoded data removed]",
      "text/plain": [
       "<Figure size 600x400 with 1 Axes>"
      ]
     },
     "metadata": {},
     "output_type": "display_data"
    },
    {
     "name": "stdout",
     "output_type": "stream",
     "text": [
      "\n",
      "==============================================================================================================\n",
      "Logistic Classification (base model) Report:\n",
      "              precision    recall  f1-score   support\n",
      "\n",
      "       <=50K     0.8761    0.9306    0.9026      7426\n",
      "        >50K     0.7253    0.5819    0.6458      2337\n",
      "\n",
      "    accuracy                         0.8472      9763\n",
      "   macro avg     0.8007    0.7563    0.7742      9763\n",
      "weighted avg     0.8400    0.8472    0.8411      9763\n",
      "\n",
      "True\n",
      "The Logistic Classification (base model) ROC AUC = 0.8953\n",
      "\n",
      "==============================================================================================================\n",
      "Logistic Classification (base model) Confusion Matrix:\n"
     ]
    },
    {
     "data": {
      "image/png": "[encoded data removed]",
      "text/plain": [
       "<Figure size 500x400 with 2 Axes>"
      ]
     },
     "metadata": {},
     "output_type": "display_data"
    }
   ],
   "source": [
    "# Define classifier type\n",
    "clf_type = 'Logistic Classification (base model)'\n",
    "\n",
    "# Create logistic classifier pipeline instance\n",
    "logistic_pipe = SkPipeline(steps=[\n",
    "    ('preprocessor', preprocessor_transformer),\n",
    "    ('classifier', LogisticRegression(max_iter=2000, random_state=42))\n",
    "])\n",
    "\n",
    "# Fit model\n",
    "logistic_pipe = fit_model(logistic_pipe, X_train, y_train, 'logistic_pipe.pkl')\n",
    "\n",
    "# Plot learning curve\n",
    "plot_learning_curve(logistic_pipe, X_train, y_train, clf_type)\n",
    "\n",
    "# Predict y_test\n",
    "y_pred = logistic_pipe.predict(X_test)\n",
    "\n",
    "# Create classification output\n",
    "create_classification_output(logistic_pipe, y_test, y_pred, clf_type)"
   ]
  },
  {
   "cell_type": "markdown",
   "id": "4214e909",
   "metadata": {},
   "source": [
    "> The Logistic Classification base model achieved solid performance with an ROC AUC of 0.895, an overall accuracy of 84.7%, and strong recall for the <=50K class (93.1%), though it underperformed on the >50K class (recall = 58.9%). The learning curve suggests mild overfitting but stable generalization as the training size increases."
   ]
  },
  {
   "cell_type": "markdown",
   "id": "33cfee68",
   "metadata": {},
   "source": [
    "### Support Vector Classifier\n",
    "- A Support Vector Classifier (SVC) separates classes by finding the optimal hyperplane that maximizes the margin between them, making it effective for both linear and non-linear classification problems."
   ]
  },
  {
   "cell_type": "code",
   "execution_count": 7,
   "id": "b29068bb",
   "metadata": {},
   "outputs": [
    {
     "name": "stdout",
     "output_type": "stream",
     "text": [
      "Model fitted and saved to svc_pipe.pkl\n",
      "\n",
      "==============================================================================================================\n",
      "Support Vector Classifier (base model) Learning Curve:\n"
     ]
    },
    {
     "data": {
      "image/png": "[encoded data removed]",
      "text/plain": [
       "<Figure size 600x400 with 1 Axes>"
      ]
     },
     "metadata": {},
     "output_type": "display_data"
    },
    {
     "name": "stdout",
     "output_type": "stream",
     "text": [
      "\n",
      "==============================================================================================================\n",
      "Support Vector Classifier (base model) Report:\n",
      "              precision    recall  f1-score   support\n",
      "\n",
      "       <=50K     0.9396    0.7746    0.8491      7426\n",
      "        >50K     0.5402    0.8417    0.6581      2337\n",
      "\n",
      "    accuracy                         0.7906      9763\n",
      "   macro avg     0.7399    0.8081    0.7536      9763\n",
      "weighted avg     0.8440    0.7906    0.8034      9763\n",
      "\n",
      "The Support Vector Classifier (base model) ROC AUC = 0.8947\n",
      "\n",
      "==============================================================================================================\n",
      "Support Vector Classifier (base model) Confusion Matrix:\n"
     ]
    },
    {
     "data": {
      "image/png": "[encoded data removed]",
      "text/plain": [
       "<Figure size 500x400 with 2 Axes>"
      ]
     },
     "metadata": {},
     "output_type": "display_data"
    }
   ],
   "source": [
    "# Define classifier type\n",
    "clf_type = 'Support Vector Classifier (base model)'\n",
    "\n",
    "# Create logistic classifier pipeline instance\n",
    "svc_pipe = SkPipeline(steps=[\n",
    "    ('preprocessor', preprocessor_transformer),\n",
    "    ('classifier', LinearSVC(class_weight='balanced', dual='auto', random_state=42))\n",
    "])\n",
    "\n",
    "# Fit model\n",
    "svc_pipe = fit_model(svc_pipe, X_train, y_train, 'svc_pipe.pkl')\n",
    "\n",
    "# Plot learning curve\n",
    "plot_learning_curve(svc_pipe, X_train, y_train, clf_type)\n",
    "\n",
    "# Predict y_test\n",
    "y_pred = svc_pipe.predict(X_test)\n",
    "\n",
    "# Create classification output\n",
    "create_classification_output(svc_pipe, y_test, y_pred, clf_type)"
   ]
  },
  {
   "cell_type": "markdown",
   "id": "13447f2f",
   "metadata": {},
   "source": [
    "> The Support Vector Classifier base model produced an ROC AUC of 0.895 and overall accuracy of 79.1%, nearly identical to the logistic model. It maintained high recall for the <=50K class (93.9%) but continued to struggle with the >50K class (recall = 59.6%), indicating mild overfitting but consistent and reliable generalization performance."
   ]
  },
  {
   "cell_type": "markdown",
   "id": "5bc050d0",
   "metadata": {},
   "source": [
    "### Random Forest Classifier\n",
    "- A Random Forest Classifier builds an ensemble of decision trees on random subsets of the data and averages their predictions to improve accuracy and reduce overfitting."
   ]
  },
  {
   "cell_type": "code",
   "execution_count": 8,
   "id": "00f2b353",
   "metadata": {},
   "outputs": [
    {
     "name": "stdout",
     "output_type": "stream",
     "text": [
      "Model fitted and saved to rf_pipe.pkl\n",
      "\n",
      "==============================================================================================================\n",
      "Random Forest Classifier (base model) Learning Curve:\n"
     ]
    },
    {
     "data": {
      "image/png": "[encoded data removed]",
      "text/plain": [
       "<Figure size 600x400 with 1 Axes>"
      ]
     },
     "metadata": {},
     "output_type": "display_data"
    },
    {
     "name": "stdout",
     "output_type": "stream",
     "text": [
      "\n",
      "==============================================================================================================\n",
      "Random Forest Classifier (base model) Report:\n",
      "              precision    recall  f1-score   support\n",
      "\n",
      "       <=50K     0.8742    0.9535    0.9121      7426\n",
      "        >50K     0.7925    0.5640    0.6590      2337\n",
      "\n",
      "    accuracy                         0.8603      9763\n",
      "   macro avg     0.8334    0.7588    0.7856      9763\n",
      "weighted avg     0.8547    0.8603    0.8516      9763\n",
      "\n",
      "True\n",
      "The Random Forest Classifier (base model) ROC AUC = 0.9121\n",
      "\n",
      "==============================================================================================================\n",
      "Random Forest Classifier (base model) Confusion Matrix:\n"
     ]
    },
    {
     "data": {
      "image/png": "[encoded data removed]",
      "text/plain": [
       "<Figure size 500x400 with 2 Axes>"
      ]
     },
     "metadata": {},
     "output_type": "display_data"
    }
   ],
   "source": [
    "# Define classifier type\n",
    "clf_type = 'Random Forest Classifier (base model)'\n",
    "\n",
    "# Create random forest classifier pipeline instance\n",
    "rf_pipe = SkPipeline(steps=[\n",
    "    ('preprocessor', preprocessor_transformer),\n",
    "    ('classifier', RandomForestClassifier(n_estimators=200, max_depth=15, random_state=42, n_jobs=-1))\n",
    "])\n",
    "\n",
    "# Fit model\n",
    "rf_pipe = fit_model(rf_pipe, X_train, y_train, 'rf_pipe.pkl')\n",
    "\n",
    "# Plot learning curve\n",
    "plot_learning_curve(rf_pipe, X_train, y_train, clf_type)\n",
    "\n",
    "# Predict y_test\n",
    "y_pred = rf_pipe.predict(X_test)\n",
    "\n",
    "# Create classification output\n",
    "create_classification_output(rf_pipe, y_test, y_pred, clf_type)"
   ]
  },
  {
   "cell_type": "markdown",
   "id": "9ed0136d",
   "metadata": {},
   "source": [
    "> The Random Forest Classifier base model achieved the highest ROC AUC of 0.914 and an accuracy of 86.3%, showing strong predictive performance overall. However, the learning curve reveals substantial overfitting, as training performance remains near-perfect while validation improvement plateaus, with continued weakness in recall for the >50K class (57.1%)."
   ]
  },
  {
   "cell_type": "markdown",
   "id": "78971b03",
   "metadata": {},
   "source": [
    "### ROC Curves - Base Classifier Models\n",
    "- An ROC curve (Receiver Operating Characteristic curve) shows how well each classifier distinguishes between the positive and negative classes across different threshold values. It plots the True Positive Rate (sensitivity) against the False Positive Rate (1 - specificity), allowing you to visualize the trade-off between correctly identifying positives and incorrectly classifying negatives. When the logistic, support vector, and random forest classifiers are displayed on the same ROC curve, the one with a line closer to the top-left corner demonstrates better overall performance and a higher ability to separate the two classes."
   ]
  },
  {
   "cell_type": "code",
   "execution_count": null,
   "id": "3faadd9d",
   "metadata": {},
   "outputs": [],
   "source": [
    "base_classifier_models = {\n",
    "    'Logistic Regression (base model)':  logistic_pipe,\n",
    "    'SVC (base model)':                  svc_pipe,\n",
    "    'Random Forest (base model)':        rf_pipe,\n",
    "}\n",
    "make_roc_curves(X_test, y_test, base_classifier_models)"
   ]
  },
  {
   "cell_type": "markdown",
   "id": "2231a3af",
   "metadata": {},
   "source": [
    "> All three base models demonstrated strong and nearly identical discrimination performance, with ROC AUC values around 0.91. The Random Forest Classifier slightly outperformed the Logistic Regression and SVC models (0.914 vs. 0.908 and 0.907), though the marginal difference suggests comparable overall predictive capability."
   ]
  },
  {
   "cell_type": "markdown",
   "id": "c4c57300",
   "metadata": {},
   "source": [
    "### Modeling - Conclusions/Discussions/Next Steps:\n",
    "The modeling results showed that all three classifiers performed well, with Logistic Regression achieving the highest AUC (0.908) and accuracy (85.9%), followed closely by SVC and Random Forest. However, each model consistently performed better at predicting ≤50K incomes than >50K, suggesting class imbalance or overlapping feature distributions could limit precision for higher-income predictions.  \n",
    "\n",
    "The next step, Feature Selection, will focus on identifying the most influential variables to simplify the models, improve computational efficiency, and reduce potential overfitting."
   ]
  },
  {
   "cell_type": "markdown",
   "id": "443459b6",
   "metadata": {},
   "source": [
    "# Over-Sampling\n",
    "Imbalanced datasets can influence both how a machine learning model learns and how accurately it makes predictions. This imbalance occurs when one class contains significantly more samples than the other, leading the model’s decision boundary to lean toward the majority class and underrepresents the minority class. Here we will test if we can increase the accuracy of the base classifier models by applying the SMOTE over-sampling technique."
   ]
  },
  {
   "cell_type": "markdown",
   "id": "c1b9a83a",
   "metadata": {},
   "source": [
    "### Logistic Classifier (with over-sampling)\n",
    "- Applying SMOTE to the logistic model helps correct class imbalance by generating synthetic minority samples, allowing the model to learn a more balanced decision boundary and improve recall for the underrepresented >50K class."
   ]
  },
  {
   "cell_type": "code",
   "execution_count": null,
   "id": "2ff8ce3d",
   "metadata": {},
   "outputs": [],
   "source": [
    "# Define classifier type\n",
    "clf_type = 'Logistic Classification (with over-sampling)'\n",
    "\n",
    "# Create logistic classifier pipeline instance\n",
    "logistic_resample_pipe = ImbPipeline(steps=[\n",
    "    ('preprocessor', preprocessor_transformer),\n",
    "    ('resampler', SMOTE(random_state=42)),\n",
    "    ('classifier', LogisticRegression(max_iter=2000, random_state=42))\n",
    "])\n",
    "\n",
    "# Fit model\n",
    "logistic_resample_pipe = fit_model(logistic_resample_pipe, X_train, y_train, 'logistic_resample_pipe.pkl')\n",
    "\n",
    "# Plot learning curve\n",
    "plot_learning_curve(logistic_resample_pipe, X_train, y_train, clf_type)\n",
    "\n",
    "# Predict y_test\n",
    "y_pred = logistic_resample_pipe.predict(X_test)\n",
    "\n",
    "# Create classification output\n",
    "create_classification_output(logistic_resample_pipe, y_test, y_pred, clf_type)"
   ]
  },
  {
   "cell_type": "markdown",
   "id": "5e23969d",
   "metadata": {},
   "source": [
    ">"
   ]
  },
  {
   "cell_type": "markdown",
   "id": "07f976e5",
   "metadata": {},
   "source": [
    "### Support Vector Classifier (with over-sampling)\n",
    "- SMOTE aids the SVC in finding a more equitable hyperplane between classes by providing a denser representation of the minority class, reducing bias toward the majority class and improving generalization on imbalanced data."
   ]
  },
  {
   "cell_type": "code",
   "execution_count": null,
   "id": "0f457ba0",
   "metadata": {},
   "outputs": [],
   "source": [
    "# Define classifier type\n",
    "clf_type = 'Support Vector Classifier (with over-sampling)'\n",
    "\n",
    "# Create support vector classifier pipeline instance\n",
    "svc_resample_pipe = ImbPipeline(steps=[\n",
    "    ('preprocessor', preprocessor_transformer),\n",
    "    ('resampler', SMOTE(random_state=42)),\n",
    "    ('classifier', SVC(kernel='linear', probability=True, cache_size=4096, random_state=42))\n",
    "])\n",
    "\n",
    "# Fit model\n",
    "svc_resample_pipe = fit_model(svc_resample_pipe, X_train, y_train, 'svc_resample_pipe.pkl')\n",
    "\n",
    "# Plot learning curve\n",
    "plot_learning_curve(svc_resample_pipe, X_train, y_train, clf_type)\n",
    "\n",
    "# Predict y_test\n",
    "y_pred = svc_resample_pipe.predict(X_test)\n",
    "\n",
    "# Create classification output\n",
    "create_classification_output(svc_resample_pipe, y_test, y_pred, clf_type)"
   ]
  },
  {
   "cell_type": "markdown",
   "id": "ad720055",
   "metadata": {},
   "source": [
    "> After applying SMOTE, the Logistic Classification model achieved an ROC AUC of 0.907 with a balanced improvement in recall for the >50K class (83.4%) at the expense of some accuracy (80.9%). The learning curve shows slightly reduced overfitting and better representation of the minority class, though precision dropped due to the synthetic oversampling."
   ]
  },
  {
   "cell_type": "markdown",
   "id": "280be429",
   "metadata": {},
   "source": [
    "### Random Forest Classifier (with over-sampling)\n",
    "- Although Random Forest is relatively robust to imbalance, applying SMOTE can still improve performance by ensuring minority samples are adequately represented across tree splits, potentially enhancing minority class recall without severely increasing overfitting risk."
   ]
  },
  {
   "cell_type": "code",
   "execution_count": null,
   "id": "835d6b05",
   "metadata": {},
   "outputs": [],
   "source": [
    "# Define classifier type\n",
    "clf_type = 'Random Forest Classifier (with over-sampling)'\n",
    "\n",
    "#  Create random forest classifier pipeline instance\n",
    "rf_resample_pipe = ImbPipeline(steps=[\n",
    "    ('preprocessor', preprocessor_transformer),\n",
    "    ('resampler', SMOTE(random_state=42)),\n",
    "    ('classifier', RandomForestClassifier(n_estimators=200, max_depth=15, random_state=42, n_jobs=-1))\n",
    "])\n",
    "\n",
    "# Fit model\n",
    "rf_resample_pipe = fit_model(rf_resample_pipe, X_train, y_train, 'rf_resample_pipe.pkl')\n",
    "\n",
    "# Plot learning curve\n",
    "plot_learning_curve(rf_resample_pipe, X_train, y_train, clf_type)\n",
    "\n",
    "# Predict y_test\n",
    "y_pred = rf_resample_pipe.predict(X_test)\n",
    "\n",
    "# Create classification output\n",
    "create_classification_output(rf_resample_pipe, y_test, y_pred, clf_type)"
   ]
  },
  {
   "cell_type": "markdown",
   "id": "0608d496",
   "metadata": {},
   "source": [
    "> With SMOTE applied, the Random Forest Classifier achieved an ROC AUC of 0.908 and accuracy of 81.2%, showing better balance between the two income classes. The model’s recall for the >50K class improved markedly to 82.5%, though precision declined, indicating stronger sensitivity to minority cases at the cost of more false positives."
   ]
  },
  {
   "cell_type": "markdown",
   "id": "0a981484",
   "metadata": {},
   "source": [
    "### ROC Curves - Over-Sampling\n",
    "- Comparing the base classifiers to the classifiers that have had over-sampling applied."
   ]
  },
  {
   "cell_type": "code",
   "execution_count": null,
   "id": "74e78fbe",
   "metadata": {},
   "outputs": [],
   "source": [
    "base_and_resample_classifier_models = {\n",
    "    'Logistic Regression (base model)':         logistic_pipe,\n",
    "    'SVC (base model)':                         svc_pipe,\n",
    "    'Random Forest (base model)':               rf_pipe,\n",
    "    'Logistic Regression (with over-sampling)': logistic_resample_pipe,\n",
    "    'SVC (with over-sampling)':                 svc_resample_pipe,\n",
    "    'Random Forest (with over-sampling)':       rf_resample_pipe,\n",
    "}\n",
    "make_roc_curves(X_test, y_test, base_and_resample_classifier_models)"
   ]
  },
  {
   "cell_type": "markdown",
   "id": "2d34dcfc",
   "metadata": {},
   "source": [
    "> All models, both base and SMOTE-enhanced, achieved nearly identical ROC AUC values around 0.91, indicating consistent discriminative power across approaches. The Random Forest (base model) performed marginally best at 0.914, while oversampling provided balanced but slightly lower AUC scores, suggesting SMOTE improved class sensitivity without significantly altering overall model performance."
   ]
  },
  {
   "cell_type": "markdown",
   "id": "03d7ea62",
   "metadata": {},
   "source": [
    "# Feature Selection\n",
    "This is the process of identifying and keeping only the most relevant input variables that contribute significantly to a model’s predictions. In supervised classification, this helps improve model performance, reduce overfitting, and make the model more efficient by removing redundant or irrelevant features."
   ]
  },
  {
   "cell_type": "markdown",
   "id": "581230c2",
   "metadata": {},
   "source": [
    "### Logistic Classifier (with feature selection)\n",
    "- Now we train a logistic regression pipeline that preprocesses the data, performs feature selection using an L1-regularized logistic model to drop less important features, and then fits a logistic regression classifier to the preprocessed and feature selected dataset."
   ]
  },
  {
   "cell_type": "code",
   "execution_count": null,
   "id": "7b6d52dd",
   "metadata": {},
   "outputs": [],
   "source": [
    "# Define classifier type\n",
    "clf_type = 'Logistic Classification (with feature selection)'\n",
    "\n",
    "# Create logistic classifier pipeline instance\n",
    "logistic_fs_pipe = SkPipeline(steps=[\n",
    "    ('preprocessor', preprocessor_transformer),\n",
    "    ('selector', SelectFromModel(LogisticRegression(penalty='l1', solver='liblinear', max_iter=200, random_state=42))),\n",
    "    ('classifier', LogisticRegression(max_iter=2000, random_state=42))\n",
    "])\n",
    "\n",
    "# Fit model\n",
    "logistic_fs_pipe = fit_model(logistic_fs_pipe, X_train, y_train, 'logistic_fs_pipe.pkl')\n",
    "\n",
    "# Plot learning curve\n",
    "plot_learning_curve(logistic_fs_pipe, X_train, y_train, clf_type)\n",
    "\n",
    "# Predict y_test\n",
    "y_pred = logistic_fs_pipe.predict(X_test)\n",
    "\n",
    "# Show the dropped features\n",
    "show_dropped_features(logistic_fs_pipe, clf_type)"
   ]
  },
  {
   "cell_type": "code",
   "execution_count": null,
   "id": "607ca60b",
   "metadata": {},
   "outputs": [],
   "source": [
    "# Create classification output\n",
    "create_classification_output(logistic_fs_pipe, y_test, y_pred, clf_type)"
   ]
  },
  {
   "cell_type": "markdown",
   "id": "c4bbdcaf",
   "metadata": {},
   "source": [
    "> After applying feature selection, the logistic regression model achieved an accuracy of 85.8%, maintaining similar performance to the base model while using fewer features. The model continued to predict ≤50K incomes with high recall (93.7%) but showed lower recall (60.7%) for >50K, indicating it generalizes well but may still under-identify higher-income individuals."
   ]
  },
  {
   "cell_type": "markdown",
   "id": "384d5950",
   "metadata": {},
   "source": [
    "### Support Vector Classifier (with feature selection)\n",
    "- This code builds and trains a support vector classifier pipeline that preprocesses the data, uses an L1-regularized linear SVC to select the most important features, and then fits an RBF-kernel SVC for final classification.."
   ]
  },
  {
   "cell_type": "code",
   "execution_count": null,
   "id": "6af3a6f8",
   "metadata": {},
   "outputs": [],
   "source": [
    "# Define classifier type\n",
    "clf_type = 'Support Vector Classifier (with feature selection)'\n",
    "\n",
    "# Create logistic classifier pipeline instance\n",
    "svc_fs_pipe = SkPipeline(steps=[\n",
    "    ('preprocessor', preprocessor_transformer),\n",
    "    ('selector', SelectFromModel(LinearSVC(penalty='l1', dual=False, C=0.25, tol=1e-3, max_iter=50000, random_state=42))),\n",
    "    ('classifier', SVC(kernel='linear', class_weight='balanced', probability=True, cache_size=4096, random_state=42))\n",
    "])\n",
    "\n",
    "# Fit model\n",
    "svc_fs_pipe = fit_model(svc_fs_pipe, X_train, y_train, 'svc_fs_pipe.pkl')\n",
    "\n",
    "# Plot learning curve\n",
    "plot_learning_curve(svc_fs_pipe, X_train, y_train, clf_type)\n",
    "\n",
    "# Predict y_test\n",
    "y_pred = svc_fs_pipe.predict(X_test)\n",
    "\n",
    "# Show the dropped features\n",
    "show_dropped_features(svc_fs_pipe, clf_type)"
   ]
  },
  {
   "cell_type": "code",
   "execution_count": null,
   "id": "81dc4d16",
   "metadata": {},
   "outputs": [],
   "source": [
    "# Create classification output\n",
    "create_classification_output(svc_fs_pipe, y_test, y_pred, clf_type)"
   ]
  },
  {
   "cell_type": "markdown",
   "id": "5e301f33",
   "metadata": {},
   "source": [
    "> With feature selection applied, the support vector classifier achieved an accuracy of 85.7%, maintaining strong generalization and consistent performance with the base model. It performed very well for predicting ≤50K incomes (94.0% recall) but continued to show lower recall (59.6%) for >50K, indicating slightly better precision but limited improvement in identifying higher-income individuals."
   ]
  },
  {
   "cell_type": "markdown",
   "id": "4727564d",
   "metadata": {},
   "source": [
    "### Random Forest Classifier (with feature selection)\n",
    "- This code creates and trains a random forest pipeline that preprocesses the data, selects important features based on feature importance scores from an initial random forest, and then fits a final random forest classifier using those selected features."
   ]
  },
  {
   "cell_type": "code",
   "execution_count": null,
   "id": "77bdf5f7",
   "metadata": {},
   "outputs": [],
   "source": [
    "# Define classifier type\n",
    "clf_type = 'Random Forest Classifier (with feature selection)'\n",
    "\n",
    "# Create random forest classifier pipeline instance\n",
    "rf_fs_pipe = SkPipeline(steps=[\n",
    "    ('preprocessor', preprocessor_transformer),\n",
    "    ('selector', SelectFromModel(RandomForestClassifier(n_estimators=100, random_state=42, n_jobs=-1))),\n",
    "    ('classifier', RandomForestClassifier(n_estimators=200, max_depth=15, random_state=42, n_jobs=-1))\n",
    "])\n",
    "\n",
    "# Fit model\n",
    "rf_fs_pipe = fit_model(rf_fs_pipe, X_train, y_train, 'rf_fs_pipe.pkl')\n",
    "\n",
    "# Plot learning curve\n",
    "plot_learning_curve(rf_fs_pipe, X_train, y_train, clf_type)\n",
    "\n",
    "# Predict y_test\n",
    "y_pred = rf_fs_pipe.predict(X_test)\n",
    "\n",
    "# Show the dropped features\n",
    "show_dropped_features(rf_fs_pipe, clf_type)"
   ]
  },
  {
   "cell_type": "code",
   "execution_count": null,
   "id": "cf0f964d",
   "metadata": {},
   "outputs": [],
   "source": [
    "# Create classification output\n",
    "create_classification_output(rf_fs_pipe, y_test, y_pred, clf_type)"
   ]
  },
  {
   "cell_type": "markdown",
   "id": "07d6b203",
   "metadata": {},
   "source": [
    "> After applying feature selection, the random forest classifier achieved an ROC AUC of 0.914%, performing well on ≤50K incomes (94.8% recall) but less effectively on >50K (58.9% recall). The learning curve shows near-perfect training accuracy and lower validation accuracy, indicating persistent overfitting despite feature reduction."
   ]
  },
  {
   "cell_type": "markdown",
   "id": "9e59699b",
   "metadata": {},
   "source": [
    "### ROC Curves - Base vs. Feature Selected Models\n",
    "- Comparing the base classifiers to the classifiers that have had feature selection applied."
   ]
  },
  {
   "cell_type": "code",
   "execution_count": null,
   "id": "bf13ad54",
   "metadata": {},
   "outputs": [],
   "source": [
    "base_and_feature_selection_models = {\n",
    "    'Logistic Regression (base model)':             logistic_pipe,\n",
    "    'SVC (base model)':                             svc_pipe,\n",
    "    'Random Forest (base model)':                   rf_pipe,\n",
    "    'Logistic Regression (with feature selection)': logistic_fs_pipe,\n",
    "    'SVC (with feature selection)':                 svc_fs_pipe,\n",
    "    'Random Forest (with feature selection)':       rf_fs_pipe,\n",
    "}\n",
    "\n",
    "make_roc_curves(X_test, y_test, base_and_feature_selection_models)"
   ]
  },
  {
   "cell_type": "markdown",
   "id": "16e9e389",
   "metadata": {},
   "source": [
    "> Across all models, the application of feature selection produced nearly identical ROC AUC performance compared to their base counterparts, demonstrating that dimensionality reduction did not compromise predictive capability. The Random Forest model, both before and after feature selection, achieved the highest ROC AUC of 0.914, suggesting that its ensemble approach remained highly effective at capturing non-linear relationships even with a reduced feature set. Logistic Regression and Support Vector Classifier models followed closely with ROC AUC values around 0.907–0.908, highlighting consistent generalization across linear and non-linear methods. This stability across models indicates that the most informative predictors were successfully retained during feature selection, minimizing performance loss while simplifying the model structure."
   ]
  },
  {
   "cell_type": "markdown",
   "id": "91f215ff",
   "metadata": {},
   "source": [
    "### Feature Selection - Conclusions/Discussions/Next Steps:\n",
    "The feature selection results showed that reducing the number of features had little impact on overall model performance, with all models maintaining similar AUC scores between 0.89 and 0.91. Logistic Regression remained the strongest performer, while the SVC and Random Forest models showed slight declines, likely because the feature selection process removed variables that contributed subtle but meaningful information.  \n",
    "\n",
    "The next step, Hyperparameter Tuning, will focus on optimizing each model’s parameters using cross-validation to improve predictive accuracy and further refine model performance."
   ]
  },
  {
   "cell_type": "markdown",
   "id": "c43caaff",
   "metadata": {},
   "source": [
    "# Over-Sampling & Feature Selection"
   ]
  },
  {
   "cell_type": "markdown",
   "id": "b809112c",
   "metadata": {},
   "source": [
    "### Logistic Classifier (with over-sampling & feature selection)\n",
    "- Combining over-sampling and feature selection improves balance between classes and simplifies the logistic model, boosting recall for the minority class while keeping overall AUC stable."
   ]
  },
  {
   "cell_type": "code",
   "execution_count": null,
   "id": "f4224f16",
   "metadata": {},
   "outputs": [],
   "source": [
    "# Define classifier type\n",
    "clf_type = 'Logistic Classification (with over-sampling & feature selection)'\n",
    "\n",
    "# Create logistic classifier pipeline instance\n",
    "logistic_resample_fs_pipe = ImbPipeline(steps=[\n",
    "    ('preprocessor', preprocessor_transformer),\n",
    "    ('resampler', SMOTE(random_state=42)),\n",
    "    ('selector', SelectFromModel(LogisticRegression(penalty='l1', solver='liblinear', max_iter=200, random_state=42))),\n",
    "    ('classifier', LogisticRegression(max_iter=2000, random_state=42))\n",
    "])\n",
    "\n",
    "# Fit model\n",
    "logistic_resample_fs_pipe = fit_model(logistic_resample_fs_pipe, X_train, y_train, 'logistic_resample_fs_pipe.pkl')\n",
    "\n",
    "# Plot learning curve\n",
    "plot_learning_curve(logistic_resample_fs_pipe, X_train, y_train, clf_type)\n",
    "\n",
    "# Predict y_test\n",
    "y_pred = logistic_resample_fs_pipe.predict(X_test)\n",
    "\n",
    "# Show the dropped features\n",
    "show_dropped_features(logistic_resample_fs_pipe, clf_type)"
   ]
  },
  {
   "cell_type": "code",
   "execution_count": null,
   "id": "80b59b85",
   "metadata": {},
   "outputs": [],
   "source": [
    "# Create classification output\n",
    "create_classification_output(logistic_resample_fs_pipe, y_test, y_pred, clf_type)"
   ]
  },
  {
   "cell_type": "markdown",
   "id": "87bb2866",
   "metadata": {},
   "source": [
    "> The Logistic Classification model with both over-sampling and feature selection achieved an ROC AUC of 0.907 and an accuracy of 81.0%. This configuration significantly improved recall for the minority >50K class (83.4%) while maintaining overall discriminative performance, showing that combining SMOTE with dimensionality reduction enhances balance without sacrificing model stability."
   ]
  },
  {
   "cell_type": "markdown",
   "id": "7c6ae577",
   "metadata": {},
   "source": [
    "### Support Vector Classifier (with over-sampling & feature selection)\n",
    "- Together, over-sampling and feature selection help the SVC build a cleaner, more balanced boundary between classes, improving minority class detection and model efficiency."
   ]
  },
  {
   "cell_type": "code",
   "execution_count": null,
   "id": "2e20444c",
   "metadata": {},
   "outputs": [],
   "source": [
    "# Define classifier type\n",
    "clf_type = 'Support Vector Classifier (with over-sampling & feature selection)'\n",
    "\n",
    "# Create logistic classifier pipeline instance\n",
    "svc_resample_fs_pipe = ImbPipeline(steps=[\n",
    "    ('preprocessor', preprocessor_transformer),\n",
    "    ('resampler', SMOTE(random_state=42)),\n",
    "    ('selector', SelectFromModel(LinearSVC(penalty='l1', dual=False, C=0.25, tol=1e-3, max_iter=50000, random_state=42))),\n",
    "    ('classifier', SVC(kernel='linear', probability=True, cache_size=4096, random_state=42))\n",
    "])\n",
    "\n",
    "# Fit model\n",
    "svc_resample_fs_pipe = fit_model(svc_resample_fs_pipe, X_train, y_train, 'svc_resample_fs_pipe.pkl')\n",
    "\n",
    "# Plot learning curve\n",
    "plot_learning_curve(svc_resample_fs_pipe, X_train, y_train, clf_type)\n",
    "\n",
    "# Predict y_test\n",
    "y_pred = svc_resample_fs_pipe.predict(X_test)\n",
    "\n",
    "# Show the dropped features\n",
    "show_dropped_features(svc_resample_fs_pipe, clf_type)"
   ]
  },
  {
   "cell_type": "code",
   "execution_count": null,
   "id": "05769f5d",
   "metadata": {},
   "outputs": [],
   "source": [
    "# Create classification output\n",
    "create_classification_output(svc_resample_fs_pipe, y_test, y_pred, clf_type)"
   ]
  },
  {
   "cell_type": "markdown",
   "id": "b92fac5a",
   "metadata": {},
   "source": [
    "> The Support Vector Classifier with over-sampling and feature selection achieved an ROC AUC of 0.907 and an accuracy of 80.3%. This setup greatly improved recall for the >50K class (83.9%) while maintaining balanced overall performance, showing that combining SMOTE with feature selection enhances sensitivity and reduces bias toward the majority class."
   ]
  },
  {
   "cell_type": "markdown",
   "id": "fe70169d",
   "metadata": {},
   "source": [
    "### Random Forest Classifier (with over-sampling & feature selection)\n",
    "- Applying both techniques enhances recall and reduces overfitting by exposing trees to more balanced data while removing redundant features, maintaining strong overall performance."
   ]
  },
  {
   "cell_type": "code",
   "execution_count": null,
   "id": "460b6237",
   "metadata": {},
   "outputs": [],
   "source": [
    "# Define classifier type\n",
    "clf_type = 'Random Forest Classifier (with over-sampling & feature selection)'\n",
    "\n",
    "# Create random forest classifier pipeline instance\n",
    "rf_resample_fs_pipe = ImbPipeline(steps=[\n",
    "    ('preprocessor', preprocessor_transformer),\n",
    "    ('resampler', SMOTE(random_state=42)),\n",
    "    ('selector', SelectFromModel(RandomForestClassifier(n_estimators=100, random_state=42, n_jobs=-1))),\n",
    "    ('classifier', RandomForestClassifier(n_estimators=200, max_depth=15, random_state=42, n_jobs=-1))\n",
    "])\n",
    "\n",
    "# Fit model\n",
    "rf_resample_fs_pipe = fit_model(rf_resample_fs_pipe, X_train, y_train, 'rf_resample_fs_pipe.pkl')\n",
    "\n",
    "# Plot learning curve\n",
    "plot_learning_curve(rf_resample_fs_pipe, X_train, y_train, clf_type)\n",
    "\n",
    "# Predict y_test\n",
    "y_pred = rf_resample_fs_pipe.predict(X_test)\n",
    "\n",
    "# Show the dropped features\n",
    "show_dropped_features(rf_resample_fs_pipe, clf_type)"
   ]
  },
  {
   "cell_type": "code",
   "execution_count": null,
   "id": "8a3a99cf",
   "metadata": {},
   "outputs": [],
   "source": [
    "# Create classification output\n",
    "create_classification_output(rf_resample_fs_pipe, y_test, y_pred, clf_type)"
   ]
  },
  {
   "cell_type": "markdown",
   "id": "0a7237ab",
   "metadata": {},
   "source": [
    "> The Random Forest Classifier with over-sampling and feature selection achieved an ROC AUC of 0.908 and an accuracy of 82.2%. This approach improved recall for the >50K class (81.2%) while maintaining strong overall discrimination, showing that combining SMOTE with feature selection enhances class balance and model efficiency with minimal performance trade-off."
   ]
  },
  {
   "cell_type": "markdown",
   "id": "bde24ba6",
   "metadata": {},
   "source": [
    "### ROC Curves - Base vs. Feature Selected Models\n",
    "- Comparing the base classifiers to the classifiers that have had feature selection applied."
   ]
  },
  {
   "cell_type": "code",
   "execution_count": null,
   "id": "9ddfdf65",
   "metadata": {},
   "outputs": [],
   "source": [
    "base_and_resample_with_feature_selection_models = {\n",
    "    'Logistic Regression (base model)':                             logistic_pipe,\n",
    "    'SVC (base model)':                                             svc_pipe,\n",
    "    'Random Forest (base model)':                                   rf_pipe,\n",
    "    'Logistic Regression (with over-sampling & feature selection)': logistic_resample_fs_pipe,\n",
    "    'SVC (with over-sampling & feature selection)':                 svc_resample_fs_pipe,\n",
    "    'Random Forest (with over-sampling & feature selection)':       rf_resample_fs_pipe,\n",
    "}\n",
    "\n",
    "make_roc_curves(X_test, y_test, base_and_resample_with_feature_selection_models)"
   ]
  },
  {
   "cell_type": "markdown",
   "id": "b815c098",
   "metadata": {},
   "source": [
    "> All models that combined over-sampling and feature selection achieved similar ROC AUC scores around 0.91, showing consistent and reliable performance across approaches. The Random Forest model again performed best (AUC = 0.914), indicating that even after balancing and dimensionality reduction, ensemble methods retained the strongest overall discrimination ability."
   ]
  },
  {
   "cell_type": "markdown",
   "id": "6572c15e",
   "metadata": {},
   "source": [
    "### Over-Sampling & Feature Selection - Conclusions/Discussions/Next Steps:\n",
    "-"
   ]
  },
  {
   "cell_type": "markdown",
   "id": "00879e9c",
   "metadata": {},
   "source": [
    "# Hyperparameter Tuning\n",
    "- This is the process of finding the best combination of model settings (such as regularization strength or tree depth) that optimize performance on unseen data.\n",
    "- Using 5-fold cross-validation, the training data is split into five parts—four folds are used to train the model and one is used to validate it, repeating this process five times so each fold serves as validation once.\n",
    "- The average performance across all folds helps identify the hyperparameters that generalize best to new data."
   ]
  },
  {
   "cell_type": "markdown",
   "id": "da7c7866",
   "metadata": {},
   "source": [
    "### Parameter Grids\n",
    "- These parameter grids define the sets of hyperparameter values that grid search cross-validation will systematically test for each of the three model types: Logistic Regression, Support Vector Classifier, and Random Forest Classifier. The grids identify the combination of parameters that gives ideal model performance based on the given range of selected parameters."
   ]
  },
  {
   "cell_type": "code",
   "execution_count": null,
   "id": "ae257102",
   "metadata": {},
   "outputs": [],
   "source": [
    "# Define a default pipeline to be used for cross-validation, these will be swapped out as we are processing each parameter grid\n",
    "pipeline = ImbPipeline([\n",
    "    ('preprocessor', preprocessor_transformer),\n",
    "    ('selector', 'passthrough'),   \n",
    "    ('resampler', 'passthrough'),   \n",
    "    ('classifier', LogisticRegression())\n",
    "])"
   ]
  },
  {
   "cell_type": "code",
   "execution_count": null,
   "id": "3ceedb8b",
   "metadata": {},
   "outputs": [],
   "source": [
    "'''\n",
    "LOGISTIC CLASSIFIER PARAMETER GRIDS\n",
    "'''\n",
    "# Logistic Regression (base model)\n",
    "logistic_base = {\n",
    "    'selector': ['passthrough'],\n",
    "    'resampler': ['passthrough'],\n",
    "    'classifier': [LogisticRegression(max_iter=2000, random_state=42)],\n",
    "    'classifier__C': [0.01, 0.1, 1, 10],\n",
    "}\n",
    "\n",
    "# Logistic Regression (with over-sampling)\n",
    "logistic_with_over_sampling = {\n",
    "    'selector': ['passthrough'],\n",
    "    'resampler':[SMOTE(random_state=42)],\n",
    "    'resampler__k_neighbors':[3, 5, 7],\n",
    "    'classifier': [LogisticRegression(max_iter=2000, random_state=42)],\n",
    "    'classifier__C': [0.01, 0.1, 1, 10],\n",
    "}\n",
    "\n",
    "# Logistic Regression (with feature selection)\n",
    "logistic_with_feature_selection = {\n",
    "    'selector': [SelectFromModel(LogisticRegression(penalty='l1', solver='liblinear', max_iter=2000, random_state=42))],\n",
    "    'selector__estimator__C': [0.01, 0.1, 1, 10],\n",
    "    'resampler': ['passthrough'],\n",
    "    'classifier': [LogisticRegression(max_iter=2000, random_state=42)],\n",
    "    'classifier__C': [0.01, 0.1, 1, 10],\n",
    "}\n",
    "\n",
    "# Logistic Regression (with over-sampling & feature selection)\n",
    "logistic_with_over_sampling_and_feature_selection = {\n",
    "    'selector': [SelectFromModel(LogisticRegression(penalty='l1', solver='liblinear', max_iter=2000, random_state=42))],\n",
    "    'selector__estimator__C': [0.01, 0.1, 1, 10],\n",
    "    'resampler':[SMOTE(random_state=42)],\n",
    "    'resampler__k_neighbors': [3, 5, 7],\n",
    "    'classifier': [LogisticRegression(max_iter=2000, random_state=42)],\n",
    "    'classifier__C': [0.01, 0.1, 1, 10],\n",
    "}"
   ]
  },
  {
   "cell_type": "code",
   "execution_count": null,
   "id": "e8fbfd22",
   "metadata": {},
   "outputs": [],
   "source": [
    "'''\n",
    "SUPPORT VECTOR CLASSIFIER PARAMETER GRIDS\n",
    "'''\n",
    "\n",
    "# Support Vector Classifier (base model)\n",
    "svc_base = {\n",
    "    'selector': ['passthrough'],\n",
    "    'resampler': ['passthrough'],\n",
    "    'classifier': [SVC(kernel='linear', class_weight='balanced', probability=True, cache_size=4096, random_state=42)],\n",
    "    'classifier__C': [0.5, 1.0, 1.5, 2.0],\n",
    "}\n",
    "\n",
    "# Support Vector Classifier (with over-sampling)\n",
    "svc_with_over_sampling = {\n",
    "    'selector': ['passthrough'],\n",
    "    'resampler':[SMOTE(random_state=42)],\n",
    "    'resampler__k_neighbors':[3, 5, 7],\n",
    "    'classifier': [SVC(kernel='linear', probability=True, cache_size=4096, random_state=42)],\n",
    "    'classifier__C': [0.5, 1.0, 1.5, 2.0],\n",
    "}\n",
    "\n",
    "# Support Vector Classifier (with feature selection)\n",
    "svc_with_feature_selection = {\n",
    "    'selector': [SelectFromModel(LinearSVC(penalty='l1', dual=False, max_iter=50000, tol=1e-3, class_weight='balanced', random_state=42))],\n",
    "    'selector__estimator__C': [0.01, 0.1, 1, 10],\n",
    "    'resampler': ['passthrough'],\n",
    "    'classifier': [SVC(kernel='linear', class_weight='balanced', probability=True, cache_size=4096, random_state=42)],\n",
    "    'classifier__C': [0.5, 1.0, 1.5, 2.0],\n",
    "}\n",
    "\n",
    "# Support Vector Classifier (with over-sampling & feature selection)\n",
    "svc_with_over_sampling_and_feature_selection = {\n",
    "    'selector': [SelectFromModel(LinearSVC(penalty='l1', dual=False, max_iter=50000, tol=1e-3, class_weight='balanced', random_state=42))],\n",
    "    'selector__estimator__C': [0.01, 0.1, 1, 10],\n",
    "    'resampler':[SMOTE(random_state=42)],\n",
    "    'resampler__k_neighbors':[3, 5, 7],\n",
    "    'classifier': [SVC(kernel='linear', probability=True, cache_size=4096, random_state=42)],\n",
    "    'classifier__C': [0.5, 1.0, 1.5, 2.0],\n",
    "}\n"
   ]
  },
  {
   "cell_type": "code",
   "execution_count": null,
   "id": "847aba8b",
   "metadata": {},
   "outputs": [],
   "source": [
    "'''\n",
    "RANDOM FOREST CLASSIFIER PARAMETER GRIDS\n",
    "'''\n",
    "\n",
    "# Random Forest Classifier (base model)\n",
    "rf_base = {\n",
    "    'selector': ['passthrough'],\n",
    "    'resampler': ['passthrough'],\n",
    "    'classifier': [RandomForestClassifier(random_state=42, n_jobs=-1)],\n",
    "    'classifier__max_depth': [15, 20, 25],\n",
    "    'classifier__min_samples_leaf': [1, 5, 10],\n",
    "}\n",
    "\n",
    "# Random Forest Classifier (with over-sampling)\n",
    "rf_with_over_sampling = {\n",
    "    'selector': ['passthrough'],\n",
    "    'resampler':[SMOTE(random_state=42)],\n",
    "    'resampler__k_neighbors':[3, 5, 7],\n",
    "    'classifier': [RandomForestClassifier(random_state=42, n_jobs=-1)],\n",
    "    'classifier__max_depth': [15, 20, 25],\n",
    "    'classifier__min_samples_leaf': [1, 5, 10],\n",
    "}\n",
    "\n",
    "# Random Forest Classifier (with feature selection)\n",
    "rf_with_feature_selection = {\n",
    "    'selector': [SelectFromModel(RandomForestClassifier(n_estimators=200, random_state=42, n_jobs=-1))],\n",
    "    'selector__threshold': ['median', '1.25*mean', '1.5*mean', None],\n",
    "    'resampler': ['passthrough'],\n",
    "    'classifier': [RandomForestClassifier(random_state=42, n_jobs=-1)],\n",
    "    'classifier__max_depth': [15, 20, 25],\n",
    "    'classifier__min_samples_leaf': [1, 5, 10],\n",
    "}\n",
    "\n",
    "# Random Forest Classifier (with over-sampling & feature selection)\n",
    "rf_with_over_sampling_and_feature_selection = {\n",
    "    'selector': [SelectFromModel(RandomForestClassifier(n_estimators=200, random_state=42, n_jobs=-1))],\n",
    "    'selector__threshold': ['median', '1.25*mean', '1.5*mean', None],\n",
    "    'resampler':[SMOTE(random_state=42)],\n",
    "    'resampler__k_neighbors':[3, 5, 7],\n",
    "    'classifier': [RandomForestClassifier(random_state=42, n_jobs=-1)],\n",
    "    'classifier__max_depth': [15, 20, 25],\n",
    "    'classifier__min_samples_leaf': [1, 5, 10],\n",
    "}"
   ]
  },
  {
   "cell_type": "markdown",
   "id": "848eec4b",
   "metadata": {},
   "source": [
    "### Cross Validation\n",
    "- This code performs hyperparameter tuning using GridSearchCV with 5-fold stratified cross-validation to find the best model configurations for logistic regression, SVC, and random forest classifiers—both with and without over-sampling and feature selection. It systematically tests combinations of hyperparameters (like C, max_depth, kNN, and selection thresholds) to identify the setup that achieves the highest accuracy across the folds."
   ]
  },
  {
   "cell_type": "code",
   "execution_count": null,
   "id": "576fd586",
   "metadata": {},
   "outputs": [],
   "source": [
    "# Define the parameter grid used for cross-validation\n",
    "param_grid = [\n",
    "    logistic_base,  logistic_with_feature_selection,    logistic_with_over_sampling,    logistic_with_over_sampling_and_feature_selection,\n",
    "    svc_base,       svc_with_feature_selection,         svc_with_over_sampling,         svc_with_over_sampling_and_feature_selection,\n",
    "    rf_base,        rf_with_feature_selection,          rf_with_over_sampling,          rf_with_over_sampling_and_feature_selection,\n",
    "]\n",
    "\n",
    "# Create a grid search instance\n",
    "gs = GridSearchCV(\n",
    "    estimator=pipeline,\n",
    "    param_grid=param_grid,\n",
    "    scoring='roc_auc',\n",
    "    cv=StratifiedKFold(n_splits=5, shuffle=True, random_state=42),\n",
    "    n_jobs=-1,\n",
    "    refit=True,\n",
    "    verbose=1\n",
    ")\n",
    "\n",
    "# Fit the grid search model to the training data\n",
    "gs = fit_model(gs, X_train, y_train, 'gs.pkl')\n",
    "\n",
    "# Display a dataframe of the cross-validation results\n",
    "cv_results = pd.DataFrame(gs.cv_results_).sort_values('rank_test_score')\n",
    "cv_results"
   ]
  },
  {
   "cell_type": "markdown",
   "id": "4f4aa253",
   "metadata": {},
   "source": [
    "### Best Cross-Validated Model\n",
    "- This is the best model and associated hyperparameters that achieve the highest value of accuracy of all the model types identified in the parameter grids and tested during cross-validation."
   ]
  },
  {
   "cell_type": "code",
   "execution_count": null,
   "id": "88bef492",
   "metadata": {},
   "outputs": [],
   "source": [
    "# Display the best cross-validated model hyperparameters\n",
    "print('Best cross-validated model & hyperparameters:')\n",
    "for k,v in gs.best_params_.items():\n",
    "    v=None if v=='passthrough' else v\n",
    "    print(f'\\t{k}:\\t{v}')\n",
    "print(f'Best cross-validated AUC for the above model = {gs.best_score_:.4f}')"
   ]
  },
  {
   "cell_type": "markdown",
   "id": "5968b73d",
   "metadata": {},
   "source": [
    "> After cross-validation the best model is a **random forest classifier with feature selection applied**."
   ]
  },
  {
   "cell_type": "markdown",
   "id": "821bcd57",
   "metadata": {},
   "source": [
    "### Logistic Classifier (hyperparameter tuned)\n",
    "- Applying the best model parameters as found by cross validation for the Logistic Classifier (i.e. `logistic_best_cv_params`)"
   ]
  },
  {
   "cell_type": "code",
   "execution_count": null,
   "id": "62e8ff7c",
   "metadata": {},
   "outputs": [],
   "source": [
    "# Get the best GridSearchCV parameters for LogisticRegression as determined during cross-validation\n",
    "logistic_best_cv_params = best_params_for(cv_results, 'LogisticRegression')\n",
    "print('Best cross-validated hyperparameters for Logistic Classifier:')\n",
    "for k,v in logistic_best_cv_params.items():\n",
    "    v=None if v=='passthrough' else v\n",
    "    print(f'\\t{k}:\\t{v}')"
   ]
  },
  {
   "cell_type": "code",
   "execution_count": null,
   "id": "48a695c3",
   "metadata": {},
   "outputs": [],
   "source": [
    "# Define classifier type\n",
    "clf_type = 'Logistic Classification (hyperparameter tuned)'\n",
    "\n",
    "# Create logistic classifier pipeline instance\n",
    "logistic_tuned_pipe = ImbPipeline(steps=[\n",
    "    ('preprocessor', preprocessor_transformer),\n",
    "    ('selector', 'passthrough'), # default; swapped if the tuned hyperparameters use feature selection\n",
    "    ('resampler', 'passthrough'), # default; swapped if the tuned hyperparameters use feature selection\n",
    "    ('classifier', LogisticRegression(max_iter=2000, random_state=42))\n",
    "]).set_params(**{k: v for k, v in logistic_best_cv_params.items() if k != 'classifier'})\n",
    "\n",
    "# Fit model\n",
    "logistic_tuned_pipe = fit_model(logistic_tuned_pipe, X_train, y_train, 'logistic_tuned_pipe.pkl')\n",
    "\n",
    "# Plot learning curve\n",
    "plot_learning_curve(logistic_tuned_pipe, X_train, y_train, clf_type)\n",
    "\n",
    "# Predict y_test\n",
    "y_pred = logistic_tuned_pipe.predict(X_test)\n",
    "\n",
    "# Show the dropped features\n",
    "show_dropped_features(logistic_tuned_pipe, clf_type)"
   ]
  },
  {
   "cell_type": "code",
   "execution_count": null,
   "id": "7b53790a",
   "metadata": {},
   "outputs": [],
   "source": [
    "# Create classification output\n",
    "create_classification_output(logistic_tuned_pipe, y_test, y_pred, clf_type)"
   ]
  },
  {
   "cell_type": "markdown",
   "id": "c2a450e4",
   "metadata": {},
   "source": [
    "> The hyperparameter-tuned Logistic Classification model achieved an ROC AUC of 0.908 and accuracy of 85.8%, representing the best overall balance between bias and variance among tested models. With optimized regularization (C=0.1) and L1-based feature selection, the model maintained high recall for the <=50K class (93.9%) while preserving strong generalization performance on unseen data."
   ]
  },
  {
   "cell_type": "markdown",
   "id": "c34b3b84",
   "metadata": {},
   "source": [
    "### Support Vector Classifier (hyperparameter tuned)\n",
    "- Applying the best model parameters as found by cross validation for the Support Vector Classifier (i.e. `svc_best_cv_params`)"
   ]
  },
  {
   "cell_type": "code",
   "execution_count": null,
   "id": "31f12b6c",
   "metadata": {},
   "outputs": [],
   "source": [
    "# Get the best GridSearchCV parameters for SVC as determined during cross-validation\n",
    "svc_best_cv_params = best_params_for(cv_results, 'SVC')\n",
    "print('Best cross-validated hyperparameters for Support Vector Classifier:')\n",
    "for k,v in svc_best_cv_params.items():\n",
    "    v=None if v=='passthrough' else v\n",
    "    print(f'\\t{k}:\\t{v}')"
   ]
  },
  {
   "cell_type": "code",
   "execution_count": null,
   "id": "cb7ecc42",
   "metadata": {},
   "outputs": [],
   "source": [
    "# Define classifier type\n",
    "clf_type = 'Support Vector Classifier (hyperparameter tuned)'\n",
    "\n",
    "# Create support vector classifier pipeline instance\n",
    "svc_tuned_pipe = ImbPipeline(steps=[\n",
    "    ('preprocessor', preprocessor_transformer),\n",
    "    ('selector', 'passthrough'), # default; swapped if the tuned hyperparameters use feature selection\n",
    "    ('resampler', 'passthrough'), # default; swapped if the tuned hyperparameters use feature selection\n",
    "    ('classifier', SVC(kernel='linear', class_weight='balanced', probability=True, cache_size=4096, random_state=42))\n",
    "]).set_params(**{k: v for k, v in svc_best_cv_params.items() if k != 'classifier'})\n",
    "\n",
    "# Fit model\n",
    "svc_tuned_pipe = fit_model(svc_tuned_pipe, X_train, y_train, 'svc_tuned_pipe.pkl')\n",
    "\n",
    "# Plot learning curve\n",
    "plot_learning_curve(svc_tuned_pipe, X_train, y_train, clf_type)\n",
    "\n",
    "# Predict y_test\n",
    "y_pred = svc_tuned_pipe.predict(X_test)\n",
    "\n",
    "# Create classification output\n",
    "create_classification_output(svc_tuned_pipe, y_test, y_pred, clf_type)"
   ]
  },
  {
   "cell_type": "markdown",
   "id": "c929c3fe",
   "metadata": {},
   "source": [
    "> The hyperparameter-tuned Support Vector Classifier achieved an ROC AUC of 0.907 and accuracy of 85.7%, matching the strong performance of the logistic model. With a moderate regularization strength (C=0.5) and balanced class weighting, it maintained high recall for the majority class while improving fairness toward the minority class, resulting in stable and well-generalized predictions."
   ]
  },
  {
   "cell_type": "markdown",
   "id": "600c05fb",
   "metadata": {},
   "source": [
    "### Random Forest Classifier (hyperparameter tuned)\n",
    "- Applying the best model parameters as found by cross validation for the Random Forest Classifier (i.e. `rf_best_cv_params`)"
   ]
  },
  {
   "cell_type": "code",
   "execution_count": null,
   "id": "62973c8b",
   "metadata": {},
   "outputs": [],
   "source": [
    "# Get the best GridSearchCV parameters for RandomForestClassifier as determined during cross-validation\n",
    "rf_best_cv_params = best_params_for(cv_results, 'RandomForestClass')\n",
    "print('Best cross-validated hyperparameters for Random Forest Classifier:')\n",
    "for k,v in rf_best_cv_params.items():\n",
    "    v=None if v=='passthrough' else v\n",
    "    print(f'\\t{k}:\\t{v}')"
   ]
  },
  {
   "cell_type": "code",
   "execution_count": null,
   "id": "8c6df12a",
   "metadata": {},
   "outputs": [],
   "source": [
    "# Define classifier type\n",
    "clf_type = 'Random Forest Classifier (hyperparameter tuned)'\n",
    "\n",
    "# Create random forest classifier pipeline instance\n",
    "rf_tuned_pipe = SkPipeline(steps=[\n",
    "    ('preprocessor', preprocessor_transformer),\n",
    "    ('selector', 'passthrough'), # default; swapped if the tuned hyperparameters use feature selection\n",
    "    ('resampler', 'passthrough'), # default; swapped if the tuned hyperparameters use feature selection\n",
    "    ('classifier', RandomForestClassifier(n_estimators=200, max_depth=15, random_state=42, n_jobs=-1))\n",
    "])\n",
    "\n",
    "# Fit model\n",
    "rf_tuned_pipe = fit_model(rf_tuned_pipe, X_train, y_train, 'rf_tuned_pipe.pkl')\n",
    "\n",
    "# Plot learning curve\n",
    "plot_learning_curve(rf_tuned_pipe, X_train, y_train, clf_type)\n",
    "\n",
    "# Predict y_test\n",
    "y_pred = rf_tuned_pipe.predict(X_test)\n",
    "\n",
    "# Show the dropped features\n",
    "show_dropped_features(logistic_tuned_pipe, clf_type)"
   ]
  },
  {
   "cell_type": "code",
   "execution_count": null,
   "id": "929fbba1",
   "metadata": {},
   "outputs": [],
   "source": [
    "# Create classification output\n",
    "create_classification_output(rf_tuned_pipe, y_test, y_pred, clf_type)"
   ]
  },
  {
   "cell_type": "markdown",
   "id": "d90bd7fa",
   "metadata": {},
   "source": [
    "> The hyperparameter-tuned Random Forest Classifier achieved the highest overall performance with an ROC AUC of 0.914 and accuracy of 86.3%. With optimized depth and leaf size, it effectively reduced overfitting while maintaining excellent discrimination, producing strong recall for the <=50K class and balanced precision across both income categories."
   ]
  },
  {
   "cell_type": "markdown",
   "id": "9f0f70ae",
   "metadata": {},
   "source": [
    "### ROC Curves - Base vs. Hyperparameter Tuned Models"
   ]
  },
  {
   "cell_type": "code",
   "execution_count": null,
   "id": "012f2c01",
   "metadata": {},
   "outputs": [],
   "source": [
    "base_and_tuned_models = {\n",
    "    'Logistic Regression (base model)':     logistic_pipe,\n",
    "    'SVC (base model)':                     svc_pipe,\n",
    "    'Random Forest (base model)':           rf_pipe,\n",
    "    'Logistic Regression (tuned model)':    logistic_tuned_pipe,\n",
    "    'SVC (tuned model)':                    svc_tuned_pipe,\n",
    "    'Random Forest (tuned model)':          rf_tuned_pipe,\n",
    "}\n",
    "\n",
    "make_roc_curves(X_test, y_test, base_and_tuned_models)"
   ]
  },
  {
   "cell_type": "markdown",
   "id": "bdc35b03",
   "metadata": {},
   "source": [
    "> After hyperparameter tuning, all models achieved strong and consistent ROC AUC scores around 0.91, confirming robust predictive performance across methods. The Random Forest Classifier remained the top performer (AUC = 0.914), showing that tuning improved efficiency without compromising its superior discrimination ability relative to the logistic and SVC models."
   ]
  },
  {
   "cell_type": "markdown",
   "id": "b7aabb41",
   "metadata": {},
   "source": [
    "### Hyperparameter Tuning - Conclusions/Discussions/Next Steps:\n",
    "The hyperparameter tuning results showed that optimization slightly improved model stability and generalization, with all models achieving similar AUC scores between 0.89 and 0.91. The Random Forest model performed best overall after tuning, though all classifiers continued to struggle with accurately predicting >50K incomes due to class imbalance.  \n",
    "\n",
    "The next step, Ensemble Modeling, will combine multiple tuned classifiers using voting and stacking techniques to leverage their individual strengths and improve overall predictive performance."
   ]
  },
  {
   "cell_type": "markdown",
   "id": "c8f174b0",
   "metadata": {},
   "source": [
    "# Ensemble Methods\n",
    "Ensemble methods like `VotingClassifier` and `StackingClassifier` combine multiple machine learning models to improve overall predictive performance. The `VotingClassifier` aggregates predictions from several base models and makes a final decision based on majority vote (for classification) or average (for regression). The `StackingClassifier`, on the other hand, uses the outputs of multiple base models as inputs to a meta-model which learns how to best combine their predictions for improved accuracy and generalization."
   ]
  },
  {
   "cell_type": "markdown",
   "id": "ff8efe32",
   "metadata": {},
   "source": [
    "### Voting Classifier\n",
    "- This code creates and trains a soft voting ensemble that combines the hyperparameter tuned logistic regression, SVC, and random forest models, averaging their predicted probabilities to produce a final, more robust classification."
   ]
  },
  {
   "cell_type": "code",
   "execution_count": null,
   "id": "89fe921f",
   "metadata": {},
   "outputs": [],
   "source": [
    "# Define classifier type\n",
    "clf_type = 'Voting Classifier Ensemble'\n",
    "\n",
    "# Create a VotingClassifier ensemble instance\n",
    "voter = VotingClassifier(\n",
    "    estimators=[\n",
    "        ('lr', logistic_tuned_pipe),\n",
    "        ('svc', svc_tuned_pipe),\n",
    "        ('rf',  rf_tuned_pipe)\n",
    "    ],\n",
    "    voting='soft',\n",
    "    n_jobs=-1\n",
    ")\n",
    "\n",
    "# Fit the VotingClassifier ensemble model\n",
    "voter = fit_model(voter, X_train, y_train, 'voter.pkl')\n",
    "\n",
    "# Predict y_test\n",
    "y_pred = voter.predict(X_test)\n",
    "\n",
    "# Create classification output\n",
    "create_classification_output(voter, y_test, y_pred, clf_type)"
   ]
  },
  {
   "cell_type": "markdown",
   "id": "5ee51f7e",
   "metadata": {},
   "source": [
    "> The soft voting classifier achieved an overall accuracy of 86.4%, performing well on ≤50K incomes (95.0% recall) while maintaining balanced generalization across models. Although it did not significantly outperform the individual tuned models, it demonstrated strong stability and consistent predictive performance across both income classes."
   ]
  },
  {
   "cell_type": "markdown",
   "id": "9b460b07",
   "metadata": {},
   "source": [
    "### Stacking Classifier\n",
    "- This code builds and trains a stacking ensemble that combines predictions from the tuned logistic regression, SVC, and random forest models, using a logistic regression meta-model to learn the best way to blend their outputs for improved overall accuracy."
   ]
  },
  {
   "cell_type": "code",
   "execution_count": null,
   "id": "195efca4",
   "metadata": {},
   "outputs": [],
   "source": [
    "# Create a StackingClassifier ensemble instance\n",
    "stacker = StackingClassifier(\n",
    "    estimators=[\n",
    "        ('lr',  logistic_tuned_pipe),\n",
    "        ('svc', svc_tuned_pipe),\n",
    "        ('rf',  rf_tuned_pipe)\n",
    "    ],\n",
    "    final_estimator=LogisticRegression(max_iter=2000, random_state=42),\n",
    "    passthrough=False,\n",
    "    cv=StratifiedKFold(n_splits=5, shuffle=True, random_state=42),\n",
    "    n_jobs=-1\n",
    ")\n",
    "\n",
    "# Fit the StackingClassifier ensemble model\n",
    "stacker = fit_model(stacker, X_train, y_train, 'stacker.pkl')\n",
    "\n",
    "# Create classification output\n",
    "create_classification_output(stacker, 'Stacking Classifier')"
   ]
  },
  {
   "cell_type": "markdown",
   "id": "2565b0a3",
   "metadata": {},
   "source": [
    "> The stacking classifier achieved an overall accuracy of 86.1%, maintaining consistent performance and strong generalization across models. While it slightly underperformed compared to the voting ensemble, it still produced balanced results with high recall for ≤50K incomes (94.6%) and moderate performance for >50K predictions (58.8%), indicating stable but incremental improvement over individual models."
   ]
  },
  {
   "cell_type": "markdown",
   "id": "67fbaadd",
   "metadata": {},
   "source": [
    "### ROC Curves - Base vs. Ensemble Models\n",
    "- Here we are comparing the performance of the base models and ensemble models by plotting their ROC curves on the test data to visually evaluate which approach best distinguishes between the income classes."
   ]
  },
  {
   "cell_type": "code",
   "execution_count": null,
   "id": "feaa46a1",
   "metadata": {},
   "outputs": [],
   "source": [
    "base_and_ensemble_models = {\n",
    "    'Logistic Regression (base model)': logistic_pipe,\n",
    "    'SVC (base model)':                 svc_pipe, \n",
    "    'Random Forest (base model)':       rf_pipe,\n",
    "    'Voting Ensemble':                  voter,\n",
    "    'Stacking Ensemble':                stacker, \n",
    "}\n",
    "\n",
    "make_roc_curves(X_test, y_test, base_and_ensemble_models)"
   ]
  },
  {
   "cell_type": "markdown",
   "id": "e079000c",
   "metadata": {},
   "source": [
    "> The ROC AUC results show that both ensemble models outperformed the base classifiers, with the Voting Ensemble achieving the highest AUC of 0.915 and the Stacking Ensemble close behind at 0.913. These results indicate that combining the tuned models slightly improved overall classification performance and generalization compared to using individual models alone."
   ]
  },
  {
   "cell_type": "markdown",
   "id": "7277df18",
   "metadata": {},
   "source": [
    "### Ensemble Methods - Conclusions/Discussions/Next Steps:\n",
    "The ensemble modeling results showed that combining the tuned classifiers improved overall predictive performance, with the Voting Ensemble achieving the highest AUC (0.915) and the Stacking Ensemble performing similarly at 0.913. Both methods demonstrated stronger generalization than the individual base models, though improvements were incremental, suggesting diminishing returns from further model complexity.  \n",
    "\n",
    "The next and final step, Results and Analysis, will summarize the overall model comparisons, highlight key performance insights, and discuss conclusions and potential recommendations based on the results."
   ]
  },
  {
   "cell_type": "markdown",
   "id": "ef36dd97",
   "metadata": {},
   "source": [
    "# Results and Analysis"
   ]
  },
  {
   "cell_type": "markdown",
   "id": "615fb800",
   "metadata": {},
   "source": [
    "### ROC Curves - All Models\n",
    "- Finally, we compare the performance of the base models, feature selection models, hyperparameter tuned model, and ensemble models by plotting their ROC curves on the test data to visually evaluate which approach best distinguishes between the income classes."
   ]
  },
  {
   "cell_type": "code",
   "execution_count": null,
   "id": "161075b5",
   "metadata": {},
   "outputs": [],
   "source": [
    "all_models = {\n",
    "    'Logistic Regression (base model)':             logistic_pipe,\n",
    "    'SVC (base model)':                             svc_pipe, \n",
    "    'Random Forest (base model)':                   rf_pipe,\n",
    "    'Logistic Regression (with feature selection)': logistic_fs_pipe,\n",
    "    'SVC (with feature selection)':                 svc_fs_pipe,\n",
    "    'Random Forest (with feature selection)':       rf_fs_pipe,\n",
    "    'Logistic Regression (tuned model)':            logistic_tuned_pipe,\n",
    "    'SVC (tuned model)':                            svc_tuned_pipe,\n",
    "    'Random Forest (tuned model)':                  rf_tuned_pipe,\n",
    "    'Voting Ensemble':                              voter,\n",
    "    'Stacking Ensemble':                            stacker,\n",
    "}\n",
    "\n",
    "make_roc_curves(X_test, y_test, all_models)"
   ]
  },
  {
   "cell_type": "markdown",
   "id": "7682b655",
   "metadata": {},
   "source": [
    "> The ROC AUC charts show that all models performed consistently well, with AUC values ranging narrowly between 0.89 and 0.92, indicating strong discriminative ability across the board. The Voting Ensemble achieved the highest AUC (0.915), closely followed by the Stacking Ensemble and Random Forest (tuned) models, demonstrating that combining models provided a slight improvement in predictive power and generalization compared to individual classifiers."
   ]
  },
  {
   "cell_type": "markdown",
   "id": "f4f9b0eb",
   "metadata": {},
   "source": [
    "### Model Accuracies\n",
    "- By plotting the model accuracies, we can visually compare how each model and configuration performed relative to one another. This helps identify which modeling approach—base, feature-selected, tuned, or ensemble—achieved the highest accuracy and whether the additional complexity in later stages provided meaningful performance improvements."
   ]
  },
  {
   "cell_type": "code",
   "execution_count": null,
   "id": "6d5397f0",
   "metadata": {},
   "outputs": [],
   "source": [
    "# Create a dictionary of all the model accuracies\n",
    "all_models_accuracy = {\n",
    "    'Logistic Regression (base model)':             logistic_accuracy,\n",
    "    'SVC (base model)':                             svc_accuracy, \n",
    "    'Random Forest (base model)':                   rf_accuracy,\n",
    "    'Logistic Regression (with feature selection)': logistic_fs_accuracy,\n",
    "    'SVC (with feature selection)':                 svc_fs_accuracy,\n",
    "    'Random Forest (with feature selection)':       rf_fs_accuracy,\n",
    "    'Logistic Regression (tuned model)':            logistic_tuned_accuracy,\n",
    "    'SVC (tuned model)':                            svc_tuned_accuracy,\n",
    "    'Random Forest (tuned model)':                  rf_tuned_accuracy,\n",
    "    'Voting Ensemble':                              voter_accuracy,\n",
    "    'Stacking Ensemble':                            stacker_accuracy,\n",
    "}\n",
    "\n",
    "# Convert to DataFrame and sort by accuracy\n",
    "df = pd.DataFrame(list(all_models_accuracy.items()), columns=['Model', 'Accuracy'])\n",
    "df = df.sort_values(by='Accuracy', ascending=True)\n",
    "\n",
    "# Plot accuracies\n",
    "plt.figure(figsize=(10, 6))\n",
    "plt.barh(df['Model'], df['Accuracy'], color='steelblue')\n",
    "plt.xlabel('Accuracy')\n",
    "plt.title('Model Accuracy Comparison')\n",
    "plt.xlim(0.84, 0.87)\n",
    "plt.grid(axis='x', linestyle='--', alpha=0.7)\n",
    "plt.tight_layout()\n",
    "\n",
    "# Annotate bars with accuracy values\n",
    "for i, v in enumerate(df['Accuracy']):\n",
    "    plt.text(v + 0.0005, i, f'{v:.3f}', va='center')\n",
    "\n",
    "plt.show()"
   ]
  },
  {
   "cell_type": "markdown",
   "id": "0403e379",
   "metadata": {},
   "source": [
    "> The model accuracy comparison shows that all models performed within a narrow range, with accuracies between 0.84 and 0.87. The SVC (tuned and base models) achieved the highest accuracy (0.865), followed closely by the Voting Ensemble and SVC with feature selection (0.864). Meanwhile, the Random Forest (with feature selection) performed the weakest at 0.844, suggesting that while feature selection sometimes simplified models effectively, it did not always lead to higher accuracy."
   ]
  },
  {
   "cell_type": "markdown",
   "id": "1001bd31",
   "metadata": {},
   "source": [
    "### Conclusions/Discussions/Next Steps:\n",
    "The final model comparison results show that all classifiers performed consistently well, with SVC models achieving the highest accuracy and AUC scores, while ensemble methods such as Voting and Stacking provided slight but meaningful performance improvements. Feature selection did not always enhance results and, in some cases—particularly with the Random Forest—reduced accuracy, highlighting the trade-off between model simplicity and predictive strength."
   ]
  },
  {
   "cell_type": "markdown",
   "id": "203e83c2",
   "metadata": {},
   "source": [
    "# Discussion & Conclusion"
   ]
  },
  {
   "cell_type": "markdown",
   "id": "25531b66",
   "metadata": {},
   "source": [
    "### Learning and Takeaways  \n",
    "Throughout this project, I learned how structured, iterative model development—beginning with data exploration and cleaning, followed by preprocessing, feature selection, hyperparameter tuning, and ensemble learning—can progressively refine predictive performance. Each stage of the analysis demonstrated how thoughtful handling of data quality, encoding, and scaling directly impacts model accuracy and generalization. Overall, the Support Vector Classifier (SVC) consistently delivered the strongest results, while ensemble approaches like Voting and Stacking further enhanced robustness and interpretability, illustrating the value of combining models to capture complex relationships in the data."
   ]
  },
  {
   "cell_type": "markdown",
   "id": "e5ee8eed",
   "metadata": {},
   "source": [
    "### Why Something Didn’t Work  \n",
    "Not all modeling techniques produced performance gains as expected. In particular, feature selection reduced model complexity but occasionally removed informative variables—especially for Random Forest and SVC—leading to slight drops in accuracy and AUC. This occurred because these models naturally manage feature redundancy or capture non-linear relationships that are disrupted when certain predictors are removed. Additionally, class imbalance in the dataset (fewer >50K samples) caused models to consistently perform better for the ≤50K class, limiting recall for high-income predictions."
   ]
  },
  {
   "cell_type": "markdown",
   "id": "e3668f88",
   "metadata": {},
   "source": [
    "### Suggestions for Improvement\n",
    "Future improvements could focus on refining feature engineering and imputation methods to preserve relationships among variables. Using IterativeImputer instead of SimpleImputer could generate more realistic imputations and prevent artificial correlations between categorical features like workclass and occupation. Encoding education as categorical rather than ordinal, or experimenting with target encoding, might also capture nuanced effects lost in numeric form. Finally, applying class balancing techniques such as SMOTE or class-weight adjustments, along with more diverse ensemble or gradient boosting methods (e.g., XGBoost or LightGBM), could further enhance performance, particularly for underrepresented income classes."
   ]
  }
 ],
 "metadata": {
  "kernelspec": {
   "display_name": "base",
   "language": "python",
   "name": "python3"
  },
  "language_info": {
   "codemirror_mode": {
    "name": "ipython",
    "version": 3
   },
   "file_extension": ".py",
   "mimetype": "text/x-python",
   "name": "python",
   "nbconvert_exporter": "python",
   "pygments_lexer": "ipython3",
   "version": "3.13.2"
  }
 },
 "nbformat": 4,
 "nbformat_minor": 5
}
